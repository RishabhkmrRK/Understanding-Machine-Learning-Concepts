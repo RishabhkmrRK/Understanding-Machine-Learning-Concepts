{
 "cells": [
  {
   "cell_type": "markdown",
   "id": "29f71f03",
   "metadata": {
    "papermill": {
     "duration": 0.011102,
     "end_time": "2022-06-26T19:39:11.011323",
     "exception": false,
     "start_time": "2022-06-26T19:39:11.000221",
     "status": "completed"
    },
    "tags": []
   },
   "source": [
    "# What is EDA?\n",
    "Exploratory Data Analysis (EDA) is an approach to analyze the data using visual techniques. It is used to discover trends, patterns, or to check assumptions with the help of statistical summary and graphical representations.\n",
    "\n",
    "EDA is used to get insights of our dataset.\n",
    "\n",
    "# Libraries Required for basic EDA:\n",
    "* numpy\n",
    "* pandas\n",
    "* seaborn"
   ]
  },
  {
   "cell_type": "markdown",
   "id": "9bbc65e8",
   "metadata": {
    "papermill": {
     "duration": 0.00866,
     "end_time": "2022-06-26T19:39:11.029412",
     "exception": false,
     "start_time": "2022-06-26T19:39:11.020752",
     "status": "completed"
    },
    "tags": []
   },
   "source": [
    "<a id='toc'></a>\n",
    "# Here are some basic EDA commands as a beginner you need to know:\n",
    "1. [shape](#shape)\n",
    "2. [head(n)](#head)\n",
    "3. [info()](#info)\n",
    "4. [describe()](#describe)\n",
    "5. [columns](#columns)\n",
    "6. [value_counts()](#value)\n",
    "7. [isnull().sum()](#isnull)\n",
    "8. [duplicated().sum()](#duplicated)\n",
    "9. [.nunique()](#nunique)\n",
    "10. [boxplot()](#boxplot)\n",
    "11. [corr() and sns.heatmap()](#heatmap)\n"
   ]
  },
  {
   "cell_type": "code",
   "execution_count": 1,
   "id": "14a3f205",
   "metadata": {
    "execution": {
     "iopub.execute_input": "2022-06-26T19:39:11.049287Z",
     "iopub.status.busy": "2022-06-26T19:39:11.048861Z",
     "iopub.status.idle": "2022-06-26T19:39:12.311688Z",
     "shell.execute_reply": "2022-06-26T19:39:12.310500Z"
    },
    "papermill": {
     "duration": 1.276263,
     "end_time": "2022-06-26T19:39:12.314543",
     "exception": false,
     "start_time": "2022-06-26T19:39:11.038280",
     "status": "completed"
    },
    "tags": []
   },
   "outputs": [],
   "source": [
    "#Load the required libraries\n",
    "import pandas as pd\n",
    "import numpy as np\n",
    "import seaborn as sns\n",
    "import matplotlib.pyplot as plt"
   ]
  },
  {
   "cell_type": "markdown",
   "id": "ba633cfe",
   "metadata": {
    "papermill": {
     "duration": 0.00874,
     "end_time": "2022-06-26T19:39:12.332287",
     "exception": false,
     "start_time": "2022-06-26T19:39:12.323547",
     "status": "completed"
    },
    "tags": []
   },
   "source": [
    "# Loading Dataset\n",
    "I will be using these Eda commands on 'Titanic - Machine Learning from Disaster' dataset.\n",
    "\n",
    "(To load dataset - click on Add data (right side) and search for desired dataset ['Titanic - Machine Learning from Disaster'] and click on add.)"
   ]
  },
  {
   "cell_type": "code",
   "execution_count": 2,
   "id": "763666ee",
   "metadata": {
    "execution": {
     "iopub.execute_input": "2022-06-26T19:39:12.352293Z",
     "iopub.status.busy": "2022-06-26T19:39:12.351902Z",
     "iopub.status.idle": "2022-06-26T19:39:12.373502Z",
     "shell.execute_reply": "2022-06-26T19:39:12.372149Z"
    },
    "papermill": {
     "duration": 0.035037,
     "end_time": "2022-06-26T19:39:12.376306",
     "exception": false,
     "start_time": "2022-06-26T19:39:12.341269",
     "status": "completed"
    },
    "tags": []
   },
   "outputs": [],
   "source": [
    "#Load the data\n",
    "df = pd.read_csv('../input/titanic/train.csv')"
   ]
  },
  {
   "cell_type": "markdown",
   "id": "27894a69",
   "metadata": {
    "papermill": {
     "duration": 0.008738,
     "end_time": "2022-06-26T19:39:12.394522",
     "exception": false,
     "start_time": "2022-06-26T19:39:12.385784",
     "status": "completed"
    },
    "tags": []
   },
   "source": [
    "<a id='shape'></a>\n",
    "# 1. shape [**↑**](#toc)  \n",
    "\n",
    "Return the shape/dimensionality of a Dataframe. (no of rows x no of columns)"
   ]
  },
  {
   "cell_type": "code",
   "execution_count": 3,
   "id": "a5b02340",
   "metadata": {
    "execution": {
     "iopub.execute_input": "2022-06-26T19:39:12.415334Z",
     "iopub.status.busy": "2022-06-26T19:39:12.414646Z",
     "iopub.status.idle": "2022-06-26T19:39:12.422493Z",
     "shell.execute_reply": "2022-06-26T19:39:12.421735Z"
    },
    "papermill": {
     "duration": 0.020648,
     "end_time": "2022-06-26T19:39:12.424715",
     "exception": false,
     "start_time": "2022-06-26T19:39:12.404067",
     "status": "completed"
    },
    "tags": []
   },
   "outputs": [
    {
     "data": {
      "text/plain": [
       "(891, 12)"
      ]
     },
     "execution_count": 3,
     "metadata": {},
     "output_type": "execute_result"
    }
   ],
   "source": [
    "df.shape"
   ]
  },
  {
   "cell_type": "markdown",
   "id": "aaed9349",
   "metadata": {
    "papermill": {
     "duration": 0.009398,
     "end_time": "2022-06-26T19:39:12.443235",
     "exception": false,
     "start_time": "2022-06-26T19:39:12.433837",
     "status": "completed"
    },
    "tags": []
   },
   "source": [
    "So, our dataset contains 891 rows (or) examples and 12 columns "
   ]
  },
  {
   "cell_type": "markdown",
   "id": "3fcce87b",
   "metadata": {
    "papermill": {
     "duration": 0.008831,
     "end_time": "2022-06-26T19:39:12.461171",
     "exception": false,
     "start_time": "2022-06-26T19:39:12.452340",
     "status": "completed"
    },
    "tags": []
   },
   "source": [
    "<a id=\"head\"></a>\n",
    "# 2. head(n) [**↑**](#toc)  \n",
    "Returns Dataframe with top n rows. (default n = 5)"
   ]
  },
  {
   "cell_type": "code",
   "execution_count": 4,
   "id": "de83e98c",
   "metadata": {
    "execution": {
     "iopub.execute_input": "2022-06-26T19:39:12.481835Z",
     "iopub.status.busy": "2022-06-26T19:39:12.481382Z",
     "iopub.status.idle": "2022-06-26T19:39:12.503123Z",
     "shell.execute_reply": "2022-06-26T19:39:12.502152Z"
    },
    "papermill": {
     "duration": 0.034888,
     "end_time": "2022-06-26T19:39:12.505314",
     "exception": false,
     "start_time": "2022-06-26T19:39:12.470426",
     "status": "completed"
    },
    "tags": []
   },
   "outputs": [
    {
     "data": {
      "text/html": [
       "<div>\n",
       "<style scoped>\n",
       "    .dataframe tbody tr th:only-of-type {\n",
       "        vertical-align: middle;\n",
       "    }\n",
       "\n",
       "    .dataframe tbody tr th {\n",
       "        vertical-align: top;\n",
       "    }\n",
       "\n",
       "    .dataframe thead th {\n",
       "        text-align: right;\n",
       "    }\n",
       "</style>\n",
       "<table border=\"1\" class=\"dataframe\">\n",
       "  <thead>\n",
       "    <tr style=\"text-align: right;\">\n",
       "      <th></th>\n",
       "      <th>PassengerId</th>\n",
       "      <th>Survived</th>\n",
       "      <th>Pclass</th>\n",
       "      <th>Name</th>\n",
       "      <th>Sex</th>\n",
       "      <th>Age</th>\n",
       "      <th>SibSp</th>\n",
       "      <th>Parch</th>\n",
       "      <th>Ticket</th>\n",
       "      <th>Fare</th>\n",
       "      <th>Cabin</th>\n",
       "      <th>Embarked</th>\n",
       "    </tr>\n",
       "  </thead>\n",
       "  <tbody>\n",
       "    <tr>\n",
       "      <th>0</th>\n",
       "      <td>1</td>\n",
       "      <td>0</td>\n",
       "      <td>3</td>\n",
       "      <td>Braund, Mr. Owen Harris</td>\n",
       "      <td>male</td>\n",
       "      <td>22.0</td>\n",
       "      <td>1</td>\n",
       "      <td>0</td>\n",
       "      <td>A/5 21171</td>\n",
       "      <td>7.2500</td>\n",
       "      <td>NaN</td>\n",
       "      <td>S</td>\n",
       "    </tr>\n",
       "    <tr>\n",
       "      <th>1</th>\n",
       "      <td>2</td>\n",
       "      <td>1</td>\n",
       "      <td>1</td>\n",
       "      <td>Cumings, Mrs. John Bradley (Florence Briggs Th...</td>\n",
       "      <td>female</td>\n",
       "      <td>38.0</td>\n",
       "      <td>1</td>\n",
       "      <td>0</td>\n",
       "      <td>PC 17599</td>\n",
       "      <td>71.2833</td>\n",
       "      <td>C85</td>\n",
       "      <td>C</td>\n",
       "    </tr>\n",
       "    <tr>\n",
       "      <th>2</th>\n",
       "      <td>3</td>\n",
       "      <td>1</td>\n",
       "      <td>3</td>\n",
       "      <td>Heikkinen, Miss. Laina</td>\n",
       "      <td>female</td>\n",
       "      <td>26.0</td>\n",
       "      <td>0</td>\n",
       "      <td>0</td>\n",
       "      <td>STON/O2. 3101282</td>\n",
       "      <td>7.9250</td>\n",
       "      <td>NaN</td>\n",
       "      <td>S</td>\n",
       "    </tr>\n",
       "    <tr>\n",
       "      <th>3</th>\n",
       "      <td>4</td>\n",
       "      <td>1</td>\n",
       "      <td>1</td>\n",
       "      <td>Futrelle, Mrs. Jacques Heath (Lily May Peel)</td>\n",
       "      <td>female</td>\n",
       "      <td>35.0</td>\n",
       "      <td>1</td>\n",
       "      <td>0</td>\n",
       "      <td>113803</td>\n",
       "      <td>53.1000</td>\n",
       "      <td>C123</td>\n",
       "      <td>S</td>\n",
       "    </tr>\n",
       "    <tr>\n",
       "      <th>4</th>\n",
       "      <td>5</td>\n",
       "      <td>0</td>\n",
       "      <td>3</td>\n",
       "      <td>Allen, Mr. William Henry</td>\n",
       "      <td>male</td>\n",
       "      <td>35.0</td>\n",
       "      <td>0</td>\n",
       "      <td>0</td>\n",
       "      <td>373450</td>\n",
       "      <td>8.0500</td>\n",
       "      <td>NaN</td>\n",
       "      <td>S</td>\n",
       "    </tr>\n",
       "  </tbody>\n",
       "</table>\n",
       "</div>"
      ],
      "text/plain": [
       "   PassengerId  Survived  Pclass  \\\n",
       "0            1         0       3   \n",
       "1            2         1       1   \n",
       "2            3         1       3   \n",
       "3            4         1       1   \n",
       "4            5         0       3   \n",
       "\n",
       "                                                Name     Sex   Age  SibSp  \\\n",
       "0                            Braund, Mr. Owen Harris    male  22.0      1   \n",
       "1  Cumings, Mrs. John Bradley (Florence Briggs Th...  female  38.0      1   \n",
       "2                             Heikkinen, Miss. Laina  female  26.0      0   \n",
       "3       Futrelle, Mrs. Jacques Heath (Lily May Peel)  female  35.0      1   \n",
       "4                           Allen, Mr. William Henry    male  35.0      0   \n",
       "\n",
       "   Parch            Ticket     Fare Cabin Embarked  \n",
       "0      0         A/5 21171   7.2500   NaN        S  \n",
       "1      0          PC 17599  71.2833   C85        C  \n",
       "2      0  STON/O2. 3101282   7.9250   NaN        S  \n",
       "3      0            113803  53.1000  C123        S  \n",
       "4      0            373450   8.0500   NaN        S  "
      ]
     },
     "execution_count": 4,
     "metadata": {},
     "output_type": "execute_result"
    }
   ],
   "source": [
    "df.head()"
   ]
  },
  {
   "cell_type": "code",
   "execution_count": 5,
   "id": "620cc222",
   "metadata": {
    "execution": {
     "iopub.execute_input": "2022-06-26T19:39:12.527380Z",
     "iopub.status.busy": "2022-06-26T19:39:12.526679Z",
     "iopub.status.idle": "2022-06-26T19:39:12.544225Z",
     "shell.execute_reply": "2022-06-26T19:39:12.543258Z"
    },
    "papermill": {
     "duration": 0.031865,
     "end_time": "2022-06-26T19:39:12.546842",
     "exception": false,
     "start_time": "2022-06-26T19:39:12.514977",
     "status": "completed"
    },
    "tags": []
   },
   "outputs": [
    {
     "data": {
      "text/html": [
       "<div>\n",
       "<style scoped>\n",
       "    .dataframe tbody tr th:only-of-type {\n",
       "        vertical-align: middle;\n",
       "    }\n",
       "\n",
       "    .dataframe tbody tr th {\n",
       "        vertical-align: top;\n",
       "    }\n",
       "\n",
       "    .dataframe thead th {\n",
       "        text-align: right;\n",
       "    }\n",
       "</style>\n",
       "<table border=\"1\" class=\"dataframe\">\n",
       "  <thead>\n",
       "    <tr style=\"text-align: right;\">\n",
       "      <th></th>\n",
       "      <th>PassengerId</th>\n",
       "      <th>Survived</th>\n",
       "      <th>Pclass</th>\n",
       "      <th>Name</th>\n",
       "      <th>Sex</th>\n",
       "      <th>Age</th>\n",
       "      <th>SibSp</th>\n",
       "      <th>Parch</th>\n",
       "      <th>Ticket</th>\n",
       "      <th>Fare</th>\n",
       "      <th>Cabin</th>\n",
       "      <th>Embarked</th>\n",
       "    </tr>\n",
       "  </thead>\n",
       "  <tbody>\n",
       "    <tr>\n",
       "      <th>0</th>\n",
       "      <td>1</td>\n",
       "      <td>0</td>\n",
       "      <td>3</td>\n",
       "      <td>Braund, Mr. Owen Harris</td>\n",
       "      <td>male</td>\n",
       "      <td>22.0</td>\n",
       "      <td>1</td>\n",
       "      <td>0</td>\n",
       "      <td>A/5 21171</td>\n",
       "      <td>7.2500</td>\n",
       "      <td>NaN</td>\n",
       "      <td>S</td>\n",
       "    </tr>\n",
       "    <tr>\n",
       "      <th>1</th>\n",
       "      <td>2</td>\n",
       "      <td>1</td>\n",
       "      <td>1</td>\n",
       "      <td>Cumings, Mrs. John Bradley (Florence Briggs Th...</td>\n",
       "      <td>female</td>\n",
       "      <td>38.0</td>\n",
       "      <td>1</td>\n",
       "      <td>0</td>\n",
       "      <td>PC 17599</td>\n",
       "      <td>71.2833</td>\n",
       "      <td>C85</td>\n",
       "      <td>C</td>\n",
       "    </tr>\n",
       "    <tr>\n",
       "      <th>2</th>\n",
       "      <td>3</td>\n",
       "      <td>1</td>\n",
       "      <td>3</td>\n",
       "      <td>Heikkinen, Miss. Laina</td>\n",
       "      <td>female</td>\n",
       "      <td>26.0</td>\n",
       "      <td>0</td>\n",
       "      <td>0</td>\n",
       "      <td>STON/O2. 3101282</td>\n",
       "      <td>7.9250</td>\n",
       "      <td>NaN</td>\n",
       "      <td>S</td>\n",
       "    </tr>\n",
       "    <tr>\n",
       "      <th>3</th>\n",
       "      <td>4</td>\n",
       "      <td>1</td>\n",
       "      <td>1</td>\n",
       "      <td>Futrelle, Mrs. Jacques Heath (Lily May Peel)</td>\n",
       "      <td>female</td>\n",
       "      <td>35.0</td>\n",
       "      <td>1</td>\n",
       "      <td>0</td>\n",
       "      <td>113803</td>\n",
       "      <td>53.1000</td>\n",
       "      <td>C123</td>\n",
       "      <td>S</td>\n",
       "    </tr>\n",
       "    <tr>\n",
       "      <th>4</th>\n",
       "      <td>5</td>\n",
       "      <td>0</td>\n",
       "      <td>3</td>\n",
       "      <td>Allen, Mr. William Henry</td>\n",
       "      <td>male</td>\n",
       "      <td>35.0</td>\n",
       "      <td>0</td>\n",
       "      <td>0</td>\n",
       "      <td>373450</td>\n",
       "      <td>8.0500</td>\n",
       "      <td>NaN</td>\n",
       "      <td>S</td>\n",
       "    </tr>\n",
       "    <tr>\n",
       "      <th>5</th>\n",
       "      <td>6</td>\n",
       "      <td>0</td>\n",
       "      <td>3</td>\n",
       "      <td>Moran, Mr. James</td>\n",
       "      <td>male</td>\n",
       "      <td>NaN</td>\n",
       "      <td>0</td>\n",
       "      <td>0</td>\n",
       "      <td>330877</td>\n",
       "      <td>8.4583</td>\n",
       "      <td>NaN</td>\n",
       "      <td>Q</td>\n",
       "    </tr>\n",
       "    <tr>\n",
       "      <th>6</th>\n",
       "      <td>7</td>\n",
       "      <td>0</td>\n",
       "      <td>1</td>\n",
       "      <td>McCarthy, Mr. Timothy J</td>\n",
       "      <td>male</td>\n",
       "      <td>54.0</td>\n",
       "      <td>0</td>\n",
       "      <td>0</td>\n",
       "      <td>17463</td>\n",
       "      <td>51.8625</td>\n",
       "      <td>E46</td>\n",
       "      <td>S</td>\n",
       "    </tr>\n",
       "    <tr>\n",
       "      <th>7</th>\n",
       "      <td>8</td>\n",
       "      <td>0</td>\n",
       "      <td>3</td>\n",
       "      <td>Palsson, Master. Gosta Leonard</td>\n",
       "      <td>male</td>\n",
       "      <td>2.0</td>\n",
       "      <td>3</td>\n",
       "      <td>1</td>\n",
       "      <td>349909</td>\n",
       "      <td>21.0750</td>\n",
       "      <td>NaN</td>\n",
       "      <td>S</td>\n",
       "    </tr>\n",
       "    <tr>\n",
       "      <th>8</th>\n",
       "      <td>9</td>\n",
       "      <td>1</td>\n",
       "      <td>3</td>\n",
       "      <td>Johnson, Mrs. Oscar W (Elisabeth Vilhelmina Berg)</td>\n",
       "      <td>female</td>\n",
       "      <td>27.0</td>\n",
       "      <td>0</td>\n",
       "      <td>2</td>\n",
       "      <td>347742</td>\n",
       "      <td>11.1333</td>\n",
       "      <td>NaN</td>\n",
       "      <td>S</td>\n",
       "    </tr>\n",
       "    <tr>\n",
       "      <th>9</th>\n",
       "      <td>10</td>\n",
       "      <td>1</td>\n",
       "      <td>2</td>\n",
       "      <td>Nasser, Mrs. Nicholas (Adele Achem)</td>\n",
       "      <td>female</td>\n",
       "      <td>14.0</td>\n",
       "      <td>1</td>\n",
       "      <td>0</td>\n",
       "      <td>237736</td>\n",
       "      <td>30.0708</td>\n",
       "      <td>NaN</td>\n",
       "      <td>C</td>\n",
       "    </tr>\n",
       "  </tbody>\n",
       "</table>\n",
       "</div>"
      ],
      "text/plain": [
       "   PassengerId  Survived  Pclass  \\\n",
       "0            1         0       3   \n",
       "1            2         1       1   \n",
       "2            3         1       3   \n",
       "3            4         1       1   \n",
       "4            5         0       3   \n",
       "5            6         0       3   \n",
       "6            7         0       1   \n",
       "7            8         0       3   \n",
       "8            9         1       3   \n",
       "9           10         1       2   \n",
       "\n",
       "                                                Name     Sex   Age  SibSp  \\\n",
       "0                            Braund, Mr. Owen Harris    male  22.0      1   \n",
       "1  Cumings, Mrs. John Bradley (Florence Briggs Th...  female  38.0      1   \n",
       "2                             Heikkinen, Miss. Laina  female  26.0      0   \n",
       "3       Futrelle, Mrs. Jacques Heath (Lily May Peel)  female  35.0      1   \n",
       "4                           Allen, Mr. William Henry    male  35.0      0   \n",
       "5                                   Moran, Mr. James    male   NaN      0   \n",
       "6                            McCarthy, Mr. Timothy J    male  54.0      0   \n",
       "7                     Palsson, Master. Gosta Leonard    male   2.0      3   \n",
       "8  Johnson, Mrs. Oscar W (Elisabeth Vilhelmina Berg)  female  27.0      0   \n",
       "9                Nasser, Mrs. Nicholas (Adele Achem)  female  14.0      1   \n",
       "\n",
       "   Parch            Ticket     Fare Cabin Embarked  \n",
       "0      0         A/5 21171   7.2500   NaN        S  \n",
       "1      0          PC 17599  71.2833   C85        C  \n",
       "2      0  STON/O2. 3101282   7.9250   NaN        S  \n",
       "3      0            113803  53.1000  C123        S  \n",
       "4      0            373450   8.0500   NaN        S  \n",
       "5      0            330877   8.4583   NaN        Q  \n",
       "6      0             17463  51.8625   E46        S  \n",
       "7      1            349909  21.0750   NaN        S  \n",
       "8      2            347742  11.1333   NaN        S  \n",
       "9      0            237736  30.0708   NaN        C  "
      ]
     },
     "execution_count": 5,
     "metadata": {},
     "output_type": "execute_result"
    }
   ],
   "source": [
    "df.head(10)"
   ]
  },
  {
   "cell_type": "markdown",
   "id": "a3617c14",
   "metadata": {
    "papermill": {
     "duration": 0.009623,
     "end_time": "2022-06-26T19:39:12.566730",
     "exception": false,
     "start_time": "2022-06-26T19:39:12.557107",
     "status": "completed"
    },
    "tags": []
   },
   "source": [
    "<a id=\"info\"></a>\n",
    "# 3. info() [**↑**](#toc)  \n",
    "\n",
    "Returns Basic information of dataset\n"
   ]
  },
  {
   "cell_type": "code",
   "execution_count": 6,
   "id": "87118a2c",
   "metadata": {
    "execution": {
     "iopub.execute_input": "2022-06-26T19:39:12.588710Z",
     "iopub.status.busy": "2022-06-26T19:39:12.588008Z",
     "iopub.status.idle": "2022-06-26T19:39:12.614823Z",
     "shell.execute_reply": "2022-06-26T19:39:12.613963Z"
    },
    "papermill": {
     "duration": 0.041899,
     "end_time": "2022-06-26T19:39:12.618593",
     "exception": false,
     "start_time": "2022-06-26T19:39:12.576694",
     "status": "completed"
    },
    "tags": []
   },
   "outputs": [
    {
     "name": "stdout",
     "output_type": "stream",
     "text": [
      "<class 'pandas.core.frame.DataFrame'>\n",
      "RangeIndex: 891 entries, 0 to 890\n",
      "Data columns (total 12 columns):\n",
      " #   Column       Non-Null Count  Dtype  \n",
      "---  ------       --------------  -----  \n",
      " 0   PassengerId  891 non-null    int64  \n",
      " 1   Survived     891 non-null    int64  \n",
      " 2   Pclass       891 non-null    int64  \n",
      " 3   Name         891 non-null    object \n",
      " 4   Sex          891 non-null    object \n",
      " 5   Age          714 non-null    float64\n",
      " 6   SibSp        891 non-null    int64  \n",
      " 7   Parch        891 non-null    int64  \n",
      " 8   Ticket       891 non-null    object \n",
      " 9   Fare         891 non-null    float64\n",
      " 10  Cabin        204 non-null    object \n",
      " 11  Embarked     889 non-null    object \n",
      "dtypes: float64(2), int64(5), object(5)\n",
      "memory usage: 83.7+ KB\n"
     ]
    }
   ],
   "source": [
    "df.info()"
   ]
  },
  {
   "cell_type": "markdown",
   "id": "89c4c504",
   "metadata": {
    "papermill": {
     "duration": 0.00987,
     "end_time": "2022-06-26T19:39:12.639513",
     "exception": false,
     "start_time": "2022-06-26T19:39:12.629643",
     "status": "completed"
    },
    "tags": []
   },
   "source": [
    "From info, we can see that there are some values missing in 'Age', 'Cabin' and 'Embarked'."
   ]
  },
  {
   "cell_type": "markdown",
   "id": "e49234a9",
   "metadata": {
    "execution": {
     "iopub.execute_input": "2022-06-26T08:24:09.71378Z",
     "iopub.status.busy": "2022-06-26T08:24:09.713275Z",
     "iopub.status.idle": "2022-06-26T08:24:09.720866Z",
     "shell.execute_reply": "2022-06-26T08:24:09.719769Z",
     "shell.execute_reply.started": "2022-06-26T08:24:09.713743Z"
    },
    "papermill": {
     "duration": 0.010801,
     "end_time": "2022-06-26T19:39:12.660144",
     "exception": false,
     "start_time": "2022-06-26T19:39:12.649343",
     "status": "completed"
    },
    "tags": []
   },
   "source": [
    "<a id=\"describe\"></a>\n",
    "# 4. describe() [**↑**](#toc)  \n",
    "Returns description of the data in the DataFrame.\n",
    "\n",
    "If the DataFrame contains numerical data, the description contains these information for each column:\n",
    "\n",
    "* count - The number of not-empty values.\n",
    "\n",
    "* mean - The average (mean) value.\n",
    "\n",
    "* std - The standard deviation.\n",
    "\n",
    "* min - the minimum value.\n",
    "\n",
    "* 25% - The 25% percentile*.\n",
    "\n",
    "* 50% - The 50% percentile*.\n",
    "\n",
    "* 75% - The 75% percentile*.\n",
    "\n",
    "* max - the maximum value."
   ]
  },
  {
   "cell_type": "code",
   "execution_count": 7,
   "id": "6a0a1af5",
   "metadata": {
    "execution": {
     "iopub.execute_input": "2022-06-26T19:39:12.683093Z",
     "iopub.status.busy": "2022-06-26T19:39:12.682392Z",
     "iopub.status.idle": "2022-06-26T19:39:12.720737Z",
     "shell.execute_reply": "2022-06-26T19:39:12.719518Z"
    },
    "papermill": {
     "duration": 0.052942,
     "end_time": "2022-06-26T19:39:12.723291",
     "exception": false,
     "start_time": "2022-06-26T19:39:12.670349",
     "status": "completed"
    },
    "tags": []
   },
   "outputs": [
    {
     "data": {
      "text/html": [
       "<div>\n",
       "<style scoped>\n",
       "    .dataframe tbody tr th:only-of-type {\n",
       "        vertical-align: middle;\n",
       "    }\n",
       "\n",
       "    .dataframe tbody tr th {\n",
       "        vertical-align: top;\n",
       "    }\n",
       "\n",
       "    .dataframe thead th {\n",
       "        text-align: right;\n",
       "    }\n",
       "</style>\n",
       "<table border=\"1\" class=\"dataframe\">\n",
       "  <thead>\n",
       "    <tr style=\"text-align: right;\">\n",
       "      <th></th>\n",
       "      <th>PassengerId</th>\n",
       "      <th>Survived</th>\n",
       "      <th>Pclass</th>\n",
       "      <th>Age</th>\n",
       "      <th>SibSp</th>\n",
       "      <th>Parch</th>\n",
       "      <th>Fare</th>\n",
       "    </tr>\n",
       "  </thead>\n",
       "  <tbody>\n",
       "    <tr>\n",
       "      <th>count</th>\n",
       "      <td>891.000000</td>\n",
       "      <td>891.000000</td>\n",
       "      <td>891.000000</td>\n",
       "      <td>714.000000</td>\n",
       "      <td>891.000000</td>\n",
       "      <td>891.000000</td>\n",
       "      <td>891.000000</td>\n",
       "    </tr>\n",
       "    <tr>\n",
       "      <th>mean</th>\n",
       "      <td>446.000000</td>\n",
       "      <td>0.383838</td>\n",
       "      <td>2.308642</td>\n",
       "      <td>29.699118</td>\n",
       "      <td>0.523008</td>\n",
       "      <td>0.381594</td>\n",
       "      <td>32.204208</td>\n",
       "    </tr>\n",
       "    <tr>\n",
       "      <th>std</th>\n",
       "      <td>257.353842</td>\n",
       "      <td>0.486592</td>\n",
       "      <td>0.836071</td>\n",
       "      <td>14.526497</td>\n",
       "      <td>1.102743</td>\n",
       "      <td>0.806057</td>\n",
       "      <td>49.693429</td>\n",
       "    </tr>\n",
       "    <tr>\n",
       "      <th>min</th>\n",
       "      <td>1.000000</td>\n",
       "      <td>0.000000</td>\n",
       "      <td>1.000000</td>\n",
       "      <td>0.420000</td>\n",
       "      <td>0.000000</td>\n",
       "      <td>0.000000</td>\n",
       "      <td>0.000000</td>\n",
       "    </tr>\n",
       "    <tr>\n",
       "      <th>25%</th>\n",
       "      <td>223.500000</td>\n",
       "      <td>0.000000</td>\n",
       "      <td>2.000000</td>\n",
       "      <td>20.125000</td>\n",
       "      <td>0.000000</td>\n",
       "      <td>0.000000</td>\n",
       "      <td>7.910400</td>\n",
       "    </tr>\n",
       "    <tr>\n",
       "      <th>50%</th>\n",
       "      <td>446.000000</td>\n",
       "      <td>0.000000</td>\n",
       "      <td>3.000000</td>\n",
       "      <td>28.000000</td>\n",
       "      <td>0.000000</td>\n",
       "      <td>0.000000</td>\n",
       "      <td>14.454200</td>\n",
       "    </tr>\n",
       "    <tr>\n",
       "      <th>75%</th>\n",
       "      <td>668.500000</td>\n",
       "      <td>1.000000</td>\n",
       "      <td>3.000000</td>\n",
       "      <td>38.000000</td>\n",
       "      <td>1.000000</td>\n",
       "      <td>0.000000</td>\n",
       "      <td>31.000000</td>\n",
       "    </tr>\n",
       "    <tr>\n",
       "      <th>max</th>\n",
       "      <td>891.000000</td>\n",
       "      <td>1.000000</td>\n",
       "      <td>3.000000</td>\n",
       "      <td>80.000000</td>\n",
       "      <td>8.000000</td>\n",
       "      <td>6.000000</td>\n",
       "      <td>512.329200</td>\n",
       "    </tr>\n",
       "  </tbody>\n",
       "</table>\n",
       "</div>"
      ],
      "text/plain": [
       "       PassengerId    Survived      Pclass         Age       SibSp  \\\n",
       "count   891.000000  891.000000  891.000000  714.000000  891.000000   \n",
       "mean    446.000000    0.383838    2.308642   29.699118    0.523008   \n",
       "std     257.353842    0.486592    0.836071   14.526497    1.102743   \n",
       "min       1.000000    0.000000    1.000000    0.420000    0.000000   \n",
       "25%     223.500000    0.000000    2.000000   20.125000    0.000000   \n",
       "50%     446.000000    0.000000    3.000000   28.000000    0.000000   \n",
       "75%     668.500000    1.000000    3.000000   38.000000    1.000000   \n",
       "max     891.000000    1.000000    3.000000   80.000000    8.000000   \n",
       "\n",
       "            Parch        Fare  \n",
       "count  891.000000  891.000000  \n",
       "mean     0.381594   32.204208  \n",
       "std      0.806057   49.693429  \n",
       "min      0.000000    0.000000  \n",
       "25%      0.000000    7.910400  \n",
       "50%      0.000000   14.454200  \n",
       "75%      0.000000   31.000000  \n",
       "max      6.000000  512.329200  "
      ]
     },
     "execution_count": 7,
     "metadata": {},
     "output_type": "execute_result"
    }
   ],
   "source": [
    "df.describe()"
   ]
  },
  {
   "cell_type": "markdown",
   "id": "0d2fda50",
   "metadata": {
    "papermill": {
     "duration": 0.009894,
     "end_time": "2022-06-26T19:39:12.743431",
     "exception": false,
     "start_time": "2022-06-26T19:39:12.733537",
     "status": "completed"
    },
    "tags": []
   },
   "source": [
    "<a id=\"columns\"></a>\n",
    "# 5. columns [**↑**](#toc)  \n",
    "Reutns th column labels of the DataFrame"
   ]
  },
  {
   "cell_type": "code",
   "execution_count": 8,
   "id": "d72cc3f4",
   "metadata": {
    "execution": {
     "iopub.execute_input": "2022-06-26T19:39:12.765449Z",
     "iopub.status.busy": "2022-06-26T19:39:12.765077Z",
     "iopub.status.idle": "2022-06-26T19:39:12.772774Z",
     "shell.execute_reply": "2022-06-26T19:39:12.771601Z"
    },
    "papermill": {
     "duration": 0.021623,
     "end_time": "2022-06-26T19:39:12.775091",
     "exception": false,
     "start_time": "2022-06-26T19:39:12.753468",
     "status": "completed"
    },
    "tags": []
   },
   "outputs": [
    {
     "data": {
      "text/plain": [
       "Index(['PassengerId', 'Survived', 'Pclass', 'Name', 'Sex', 'Age', 'SibSp',\n",
       "       'Parch', 'Ticket', 'Fare', 'Cabin', 'Embarked'],\n",
       "      dtype='object')"
      ]
     },
     "execution_count": 8,
     "metadata": {},
     "output_type": "execute_result"
    }
   ],
   "source": [
    "df.columns"
   ]
  },
  {
   "cell_type": "markdown",
   "id": "aafeead9",
   "metadata": {
    "papermill": {
     "duration": 0.009934,
     "end_time": "2022-06-26T19:39:12.795529",
     "exception": false,
     "start_time": "2022-06-26T19:39:12.785595",
     "status": "completed"
    },
    "tags": []
   },
   "source": [
    "<a id=\"value\"></a>\n",
    "# 6. value_counts() [**↑**](#toc)  \n",
    "\n",
    "Return a Series containing counts of unique values."
   ]
  },
  {
   "cell_type": "code",
   "execution_count": 9,
   "id": "e15c38b1",
   "metadata": {
    "execution": {
     "iopub.execute_input": "2022-06-26T19:39:12.818082Z",
     "iopub.status.busy": "2022-06-26T19:39:12.817682Z",
     "iopub.status.idle": "2022-06-26T19:39:12.826258Z",
     "shell.execute_reply": "2022-06-26T19:39:12.824968Z"
    },
    "papermill": {
     "duration": 0.022416,
     "end_time": "2022-06-26T19:39:12.828482",
     "exception": false,
     "start_time": "2022-06-26T19:39:12.806066",
     "status": "completed"
    },
    "tags": []
   },
   "outputs": [
    {
     "data": {
      "text/plain": [
       "0    549\n",
       "1    342\n",
       "Name: Survived, dtype: int64"
      ]
     },
     "execution_count": 9,
     "metadata": {},
     "output_type": "execute_result"
    }
   ],
   "source": [
    "df['Survived'].value_counts()"
   ]
  },
  {
   "cell_type": "code",
   "execution_count": 10,
   "id": "e6d1e5bf",
   "metadata": {
    "execution": {
     "iopub.execute_input": "2022-06-26T19:39:12.851164Z",
     "iopub.status.busy": "2022-06-26T19:39:12.850469Z",
     "iopub.status.idle": "2022-06-26T19:39:12.859174Z",
     "shell.execute_reply": "2022-06-26T19:39:12.858334Z"
    },
    "papermill": {
     "duration": 0.022219,
     "end_time": "2022-06-26T19:39:12.861149",
     "exception": false,
     "start_time": "2022-06-26T19:39:12.838930",
     "status": "completed"
    },
    "tags": []
   },
   "outputs": [
    {
     "data": {
      "text/plain": [
       "S    644\n",
       "C    168\n",
       "Q     77\n",
       "Name: Embarked, dtype: int64"
      ]
     },
     "execution_count": 10,
     "metadata": {},
     "output_type": "execute_result"
    }
   ],
   "source": [
    "df[\"Embarked\"].value_counts()"
   ]
  },
  {
   "cell_type": "markdown",
   "id": "80ffc72f",
   "metadata": {
    "papermill": {
     "duration": 0.010101,
     "end_time": "2022-06-26T19:39:12.881607",
     "exception": false,
     "start_time": "2022-06-26T19:39:12.871506",
     "status": "completed"
    },
    "tags": []
   },
   "source": [
    "<a id=\"isnull\"></a>\n",
    "# 7. isnull().sum() [**↑**](#toc)  \n",
    "\n",
    "Use this to find null values in each column"
   ]
  },
  {
   "cell_type": "code",
   "execution_count": 11,
   "id": "0ee45313",
   "metadata": {
    "execution": {
     "iopub.execute_input": "2022-06-26T19:39:12.905014Z",
     "iopub.status.busy": "2022-06-26T19:39:12.904648Z",
     "iopub.status.idle": "2022-06-26T19:39:12.914792Z",
     "shell.execute_reply": "2022-06-26T19:39:12.913651Z"
    },
    "papermill": {
     "duration": 0.024359,
     "end_time": "2022-06-26T19:39:12.917050",
     "exception": false,
     "start_time": "2022-06-26T19:39:12.892691",
     "status": "completed"
    },
    "tags": []
   },
   "outputs": [
    {
     "data": {
      "text/plain": [
       "PassengerId      0\n",
       "Survived         0\n",
       "Pclass           0\n",
       "Name             0\n",
       "Sex              0\n",
       "Age            177\n",
       "SibSp            0\n",
       "Parch            0\n",
       "Ticket           0\n",
       "Fare             0\n",
       "Cabin          687\n",
       "Embarked         2\n",
       "dtype: int64"
      ]
     },
     "execution_count": 11,
     "metadata": {},
     "output_type": "execute_result"
    }
   ],
   "source": [
    "df.isnull().sum()"
   ]
  },
  {
   "cell_type": "markdown",
   "id": "3a4dec8f",
   "metadata": {
    "papermill": {
     "duration": 0.010356,
     "end_time": "2022-06-26T19:39:12.938074",
     "exception": false,
     "start_time": "2022-06-26T19:39:12.927718",
     "status": "completed"
    },
    "tags": []
   },
   "source": [
    "<a id=\"duplicated\"></a>\n",
    "# 8. duplicated().sum() [**↑**](#toc)  \n",
    "\n",
    "Returns number of duplicate rows in the dataset."
   ]
  },
  {
   "cell_type": "code",
   "execution_count": 12,
   "id": "4d5a8b8d",
   "metadata": {
    "execution": {
     "iopub.execute_input": "2022-06-26T19:39:12.960946Z",
     "iopub.status.busy": "2022-06-26T19:39:12.960536Z",
     "iopub.status.idle": "2022-06-26T19:39:12.972134Z",
     "shell.execute_reply": "2022-06-26T19:39:12.971301Z"
    },
    "papermill": {
     "duration": 0.025341,
     "end_time": "2022-06-26T19:39:12.974136",
     "exception": false,
     "start_time": "2022-06-26T19:39:12.948795",
     "status": "completed"
    },
    "tags": []
   },
   "outputs": [
    {
     "data": {
      "text/plain": [
       "0"
      ]
     },
     "execution_count": 12,
     "metadata": {},
     "output_type": "execute_result"
    }
   ],
   "source": [
    "df.duplicated().sum()"
   ]
  },
  {
   "cell_type": "markdown",
   "id": "3406f7e3",
   "metadata": {
    "papermill": {
     "duration": 0.01149,
     "end_time": "2022-06-26T19:39:12.997955",
     "exception": false,
     "start_time": "2022-06-26T19:39:12.986465",
     "status": "completed"
    },
    "tags": []
   },
   "source": [
    "<a id=\"nunique\"></a>\n",
    "# 9. nunique() [**↑**](#toc)  \n",
    "Returns number of unique values in each colunm\n"
   ]
  },
  {
   "cell_type": "code",
   "execution_count": 13,
   "id": "7179065a",
   "metadata": {
    "execution": {
     "iopub.execute_input": "2022-06-26T19:39:13.021889Z",
     "iopub.status.busy": "2022-06-26T19:39:13.021520Z",
     "iopub.status.idle": "2022-06-26T19:39:13.032755Z",
     "shell.execute_reply": "2022-06-26T19:39:13.031531Z"
    },
    "papermill": {
     "duration": 0.025889,
     "end_time": "2022-06-26T19:39:13.034979",
     "exception": false,
     "start_time": "2022-06-26T19:39:13.009090",
     "status": "completed"
    },
    "tags": []
   },
   "outputs": [
    {
     "data": {
      "text/plain": [
       "PassengerId    891\n",
       "Survived         2\n",
       "Pclass           3\n",
       "Name           891\n",
       "Sex              2\n",
       "Age             88\n",
       "SibSp            7\n",
       "Parch            7\n",
       "Ticket         681\n",
       "Fare           248\n",
       "Cabin          147\n",
       "Embarked         3\n",
       "dtype: int64"
      ]
     },
     "execution_count": 13,
     "metadata": {},
     "output_type": "execute_result"
    }
   ],
   "source": [
    "df.nunique()"
   ]
  },
  {
   "cell_type": "code",
   "execution_count": 14,
   "id": "96ddd521",
   "metadata": {
    "execution": {
     "iopub.execute_input": "2022-06-26T19:39:13.058332Z",
     "iopub.status.busy": "2022-06-26T19:39:13.057976Z",
     "iopub.status.idle": "2022-06-26T19:39:13.063482Z",
     "shell.execute_reply": "2022-06-26T19:39:13.062732Z"
    },
    "papermill": {
     "duration": 0.019708,
     "end_time": "2022-06-26T19:39:13.065413",
     "exception": false,
     "start_time": "2022-06-26T19:39:13.045705",
     "status": "completed"
    },
    "tags": []
   },
   "outputs": [
    {
     "data": {
      "text/plain": [
       "2"
      ]
     },
     "execution_count": 14,
     "metadata": {},
     "output_type": "execute_result"
    }
   ],
   "source": [
    "df[\"Survived\"].nunique()"
   ]
  },
  {
   "cell_type": "markdown",
   "id": "80d874d7",
   "metadata": {
    "papermill": {
     "duration": 0.010811,
     "end_time": "2022-06-26T19:39:13.087068",
     "exception": false,
     "start_time": "2022-06-26T19:39:13.076257",
     "status": "completed"
    },
    "tags": []
   },
   "source": [
    "<a id=\"boxplot\"></a>\n",
    "# 10. boxplot() [**↑**](#toc)  \n",
    "\n",
    "A box plot (or box-and-whisker plot) shows the distribution of quantitative data in a way that facilitates comparisons between variables or across levels of a categorical variable.\n",
    "\n",
    "It is usefult when finding outliers in the dataset.\n"
   ]
  },
  {
   "cell_type": "code",
   "execution_count": 15,
   "id": "f5a1e35a",
   "metadata": {
    "execution": {
     "iopub.execute_input": "2022-06-26T19:39:13.111342Z",
     "iopub.status.busy": "2022-06-26T19:39:13.110717Z",
     "iopub.status.idle": "2022-06-26T19:39:13.335303Z",
     "shell.execute_reply": "2022-06-26T19:39:13.334183Z"
    },
    "papermill": {
     "duration": 0.239396,
     "end_time": "2022-06-26T19:39:13.337653",
     "exception": false,
     "start_time": "2022-06-26T19:39:13.098257",
     "status": "completed"
    },
    "tags": []
   },
   "outputs": [
    {
     "data": {
      "text/plain": [
       "<AxesSubplot:>"
      ]
     },
     "execution_count": 15,
     "metadata": {},
     "output_type": "execute_result"
    },
    {
     "data": {
      "image/png": "[encoded data removed]",
      "text/plain": [
       "<Figure size 432x288 with 1 Axes>"
      ]
     },
     "metadata": {
      "needs_background": "light"
     },
     "output_type": "display_data"
    }
   ],
   "source": [
    "df[[\"Age\"]].boxplot()"
   ]
  },
  {
   "cell_type": "markdown",
   "id": "e0d9cce0",
   "metadata": {
    "papermill": {
     "duration": 0.01131,
     "end_time": "2022-06-26T19:39:13.360350",
     "exception": false,
     "start_time": "2022-06-26T19:39:13.349040",
     "status": "completed"
    },
    "tags": []
   },
   "source": [
    "\n",
    "As seen in boxplot, there are some outliers in \"Age\" variable between 65 to 80 (black bubbles).\n"
   ]
  },
  {
   "cell_type": "code",
   "execution_count": 16,
   "id": "38145fbd",
   "metadata": {
    "execution": {
     "iopub.execute_input": "2022-06-26T19:39:13.386414Z",
     "iopub.status.busy": "2022-06-26T19:39:13.385632Z",
     "iopub.status.idle": "2022-06-26T19:39:13.516832Z",
     "shell.execute_reply": "2022-06-26T19:39:13.515982Z"
    },
    "papermill": {
     "duration": 0.146601,
     "end_time": "2022-06-26T19:39:13.518965",
     "exception": false,
     "start_time": "2022-06-26T19:39:13.372364",
     "status": "completed"
    },
    "tags": []
   },
   "outputs": [
    {
     "data": {
      "text/plain": [
       "<AxesSubplot:>"
      ]
     },
     "execution_count": 16,
     "metadata": {},
     "output_type": "execute_result"
    },
    {
     "data": {
      "image/png": "[encoded data removed]",
      "text/plain": [
       "<Figure size 432x288 with 1 Axes>"
      ]
     },
     "metadata": {
      "needs_background": "light"
     },
     "output_type": "display_data"
    }
   ],
   "source": [
    "df[[\"Pclass\"]].boxplot()"
   ]
  },
  {
   "cell_type": "markdown",
   "id": "e83cf3ab",
   "metadata": {
    "papermill": {
     "duration": 0.011648,
     "end_time": "2022-06-26T19:39:13.542491",
     "exception": false,
     "start_time": "2022-06-26T19:39:13.530843",
     "status": "completed"
    },
    "tags": []
   },
   "source": [
    "We cannot see any black bubbles/dots here, so 'Pclass' does not contain any outliers."
   ]
  },
  {
   "cell_type": "markdown",
   "id": "41e2300d",
   "metadata": {
    "papermill": {
     "duration": 0.011626,
     "end_time": "2022-06-26T19:39:13.566261",
     "exception": false,
     "start_time": "2022-06-26T19:39:13.554635",
     "status": "completed"
    },
    "tags": []
   },
   "source": [
    "<a id=\"heatmap\"></a>\n",
    "# 11. corr() and sns.heatmap() [**↑**](#toc)  \n",
    "\n",
    ".corr() is used to find the pairwise correlation of all columns in the dataframe. \n",
    "correlation value varies between -1 to 1.\n",
    "\n",
    "-1 : highly negative correlated\n",
    "\n",
    "0 : no correlation\n",
    "\n",
    "1 : highly positive correlated\n",
    "\n",
    "Reasons why you would remove correlated features:\n",
    "* Make the learning algorithm faster\n",
    "* Decrease harmful bias\n",
    "\n",
    "sns.heatmap() is here used to give visual output of .corr().\n"
   ]
  },
  {
   "cell_type": "code",
   "execution_count": 17,
   "id": "f6658330",
   "metadata": {
    "execution": {
     "iopub.execute_input": "2022-06-26T19:39:13.592291Z",
     "iopub.status.busy": "2022-06-26T19:39:13.591552Z",
     "iopub.status.idle": "2022-06-26T19:39:13.608773Z",
     "shell.execute_reply": "2022-06-26T19:39:13.607906Z"
    },
    "papermill": {
     "duration": 0.032512,
     "end_time": "2022-06-26T19:39:13.610749",
     "exception": false,
     "start_time": "2022-06-26T19:39:13.578237",
     "status": "completed"
    },
    "tags": []
   },
   "outputs": [
    {
     "data": {
      "text/html": [
       "<div>\n",
       "<style scoped>\n",
       "    .dataframe tbody tr th:only-of-type {\n",
       "        vertical-align: middle;\n",
       "    }\n",
       "\n",
       "    .dataframe tbody tr th {\n",
       "        vertical-align: top;\n",
       "    }\n",
       "\n",
       "    .dataframe thead th {\n",
       "        text-align: right;\n",
       "    }\n",
       "</style>\n",
       "<table border=\"1\" class=\"dataframe\">\n",
       "  <thead>\n",
       "    <tr style=\"text-align: right;\">\n",
       "      <th></th>\n",
       "      <th>PassengerId</th>\n",
       "      <th>Survived</th>\n",
       "      <th>Pclass</th>\n",
       "      <th>Age</th>\n",
       "      <th>SibSp</th>\n",
       "      <th>Parch</th>\n",
       "      <th>Fare</th>\n",
       "    </tr>\n",
       "  </thead>\n",
       "  <tbody>\n",
       "    <tr>\n",
       "      <th>PassengerId</th>\n",
       "      <td>1.000000</td>\n",
       "      <td>-0.005007</td>\n",
       "      <td>-0.035144</td>\n",
       "      <td>0.036847</td>\n",
       "      <td>-0.057527</td>\n",
       "      <td>-0.001652</td>\n",
       "      <td>0.012658</td>\n",
       "    </tr>\n",
       "    <tr>\n",
       "      <th>Survived</th>\n",
       "      <td>-0.005007</td>\n",
       "      <td>1.000000</td>\n",
       "      <td>-0.338481</td>\n",
       "      <td>-0.077221</td>\n",
       "      <td>-0.035322</td>\n",
       "      <td>0.081629</td>\n",
       "      <td>0.257307</td>\n",
       "    </tr>\n",
       "    <tr>\n",
       "      <th>Pclass</th>\n",
       "      <td>-0.035144</td>\n",
       "      <td>-0.338481</td>\n",
       "      <td>1.000000</td>\n",
       "      <td>-0.369226</td>\n",
       "      <td>0.083081</td>\n",
       "      <td>0.018443</td>\n",
       "      <td>-0.549500</td>\n",
       "    </tr>\n",
       "    <tr>\n",
       "      <th>Age</th>\n",
       "      <td>0.036847</td>\n",
       "      <td>-0.077221</td>\n",
       "      <td>-0.369226</td>\n",
       "      <td>1.000000</td>\n",
       "      <td>-0.308247</td>\n",
       "      <td>-0.189119</td>\n",
       "      <td>0.096067</td>\n",
       "    </tr>\n",
       "    <tr>\n",
       "      <th>SibSp</th>\n",
       "      <td>-0.057527</td>\n",
       "      <td>-0.035322</td>\n",
       "      <td>0.083081</td>\n",
       "      <td>-0.308247</td>\n",
       "      <td>1.000000</td>\n",
       "      <td>0.414838</td>\n",
       "      <td>0.159651</td>\n",
       "    </tr>\n",
       "    <tr>\n",
       "      <th>Parch</th>\n",
       "      <td>-0.001652</td>\n",
       "      <td>0.081629</td>\n",
       "      <td>0.018443</td>\n",
       "      <td>-0.189119</td>\n",
       "      <td>0.414838</td>\n",
       "      <td>1.000000</td>\n",
       "      <td>0.216225</td>\n",
       "    </tr>\n",
       "    <tr>\n",
       "      <th>Fare</th>\n",
       "      <td>0.012658</td>\n",
       "      <td>0.257307</td>\n",
       "      <td>-0.549500</td>\n",
       "      <td>0.096067</td>\n",
       "      <td>0.159651</td>\n",
       "      <td>0.216225</td>\n",
       "      <td>1.000000</td>\n",
       "    </tr>\n",
       "  </tbody>\n",
       "</table>\n",
       "</div>"
      ],
      "text/plain": [
       "             PassengerId  Survived    Pclass       Age     SibSp     Parch  \\\n",
       "PassengerId     1.000000 -0.005007 -0.035144  0.036847 -0.057527 -0.001652   \n",
       "Survived       -0.005007  1.000000 -0.338481 -0.077221 -0.035322  0.081629   \n",
       "Pclass         -0.035144 -0.338481  1.000000 -0.369226  0.083081  0.018443   \n",
       "Age             0.036847 -0.077221 -0.369226  1.000000 -0.308247 -0.189119   \n",
       "SibSp          -0.057527 -0.035322  0.083081 -0.308247  1.000000  0.414838   \n",
       "Parch          -0.001652  0.081629  0.018443 -0.189119  0.414838  1.000000   \n",
       "Fare            0.012658  0.257307 -0.549500  0.096067  0.159651  0.216225   \n",
       "\n",
       "                 Fare  \n",
       "PassengerId  0.012658  \n",
       "Survived     0.257307  \n",
       "Pclass      -0.549500  \n",
       "Age          0.096067  \n",
       "SibSp        0.159651  \n",
       "Parch        0.216225  \n",
       "Fare         1.000000  "
      ]
     },
     "execution_count": 17,
     "metadata": {},
     "output_type": "execute_result"
    }
   ],
   "source": [
    "df.corr()"
   ]
  },
  {
   "cell_type": "code",
   "execution_count": 18,
   "id": "d351b2f6",
   "metadata": {
    "execution": {
     "iopub.execute_input": "2022-06-26T19:39:13.636769Z",
     "iopub.status.busy": "2022-06-26T19:39:13.636070Z",
     "iopub.status.idle": "2022-06-26T19:39:14.486909Z",
     "shell.execute_reply": "2022-06-26T19:39:14.486068Z"
    },
    "papermill": {
     "duration": 0.86654,
     "end_time": "2022-06-26T19:39:14.489152",
     "exception": false,
     "start_time": "2022-06-26T19:39:13.622612",
     "status": "completed"
    },
    "tags": []
   },
   "outputs": [
    {
     "data": {
      "text/plain": [
       "<AxesSubplot:>"
      ]
     },
     "execution_count": 18,
     "metadata": {},
     "output_type": "execute_result"
    },
    {
     "data": {
      "image/png": "[encoded data removed]",
      "text/plain": [
       "<Figure size 432x288 with 2 Axes>"
      ]
     },
     "metadata": {
      "needs_background": "light"
     },
     "output_type": "display_data"
    },
    {
     "data": {
      "image/png": "[encoded data removed]",
      "text/plain": [
       "<Figure size 720x720 with 2 Axes>"
      ]
     },
     "metadata": {
      "needs_background": "light"
     },
     "output_type": "display_data"
    }
   ],
   "source": [
    "sns.heatmap(df.corr(), annot=True)\n",
    "fig, ax = plt.subplots(figsize=(10,10)) # to resize the heatmap\n",
    "sns.heatmap(df.corr(), annot=True, ax=ax)"
   ]
  },
  {
   "cell_type": "markdown",
   "id": "1ded20d1",
   "metadata": {
    "papermill": {
     "duration": 0.013808,
     "end_time": "2022-06-26T19:39:14.517614",
     "exception": false,
     "start_time": "2022-06-26T19:39:14.503806",
     "status": "completed"
    },
    "tags": []
   },
   "source": [
    "Here, there is almost no correlation between variables expect between 'Pclass'-'Fare':-0.55, 'Age'-'Pclass':-0.37 and 'SibSp'-'Age':-0.31 where there is weak correlation"
   ]
  },
  {
   "cell_type": "markdown",
   "id": "c3c2b742",
   "metadata": {
    "papermill": {
     "duration": 0.013555,
     "end_time": "2022-06-26T19:39:14.545014",
     "exception": false,
     "start_time": "2022-06-26T19:39:14.531459",
     "status": "completed"
    },
    "tags": []
   },
   "source": [
    "Let me know if you want me to add anything more here and if there are any mistakes in comment below.\n",
    "Happy learning😃"
   ]
  }
 ],
 "metadata": {
  "kernelspec": {
   "display_name": "Python 3",
   "language": "python",
   "name": "python3"
  },
  "language_info": {
   "codemirror_mode": {
    "name": "ipython",
    "version": 3
   },
   "file_extension": ".py",
   "mimetype": "text/x-python",
   "name": "python",
   "nbconvert_exporter": "python",
   "pygments_lexer": "ipython3",
   "version": "3.7.12"
  },
  "papermill": {
   "default_parameters": {},
   "duration": 14.776264,
   "end_time": "2022-06-26T19:39:15.283311",
   "environment_variables": {},
   "exception": null,
   "input_path": "__notebook__.ipynb",
   "output_path": "__notebook__.ipynb",
   "parameters": {},
   "start_time": "2022-06-26T19:39:00.507047",
   "version": "2.3.4"
  }
 },
 "nbformat": 4,
 "nbformat_minor": 5
}
